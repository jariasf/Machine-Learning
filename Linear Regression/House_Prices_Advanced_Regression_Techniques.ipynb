{
  "nbformat": 4,
  "nbformat_minor": 0,
  "metadata": {
    "colab": {
      "name": "House Prices: Advanced Regression Techniques.ipynb",
      "version": "0.3.2",
      "provenance": [],
      "collapsed_sections": []
    },
    "kernelspec": {
      "name": "python2",
      "display_name": "Python 2"
    }
  },
  "cells": [
    {
      "metadata": {
        "id": "foEJIhlHYH-x",
        "colab_type": "text"
      },
      "cell_type": "markdown",
      "source": [
        "# House Prices: Advanced Regression Techniques\n",
        "\n",
        "**Author:** Jhosimar George Arias Figueroa"
      ]
    },
    {
      "metadata": {
        "id": "3YNKq20xYPJg",
        "colab_type": "text"
      },
      "cell_type": "markdown",
      "source": [
        "## Introduction\n",
        "\n",
        "This notebook is intended to be a guide for education on the Kaggle problem: **House Prices** (https://www.kaggle.com/c/house-prices-advanced-regression-techniques/data). Here we will see data preparation, basic feature engineering and application of the most basic linear regression models."
      ]
    },
    {
      "metadata": {
        "id": "S-m076xfZMtE",
        "colab_type": "text"
      },
      "cell_type": "markdown",
      "source": [
        "## Load Data"
      ]
    },
    {
      "metadata": {
        "id": "EGs7x3R0ZUi_",
        "colab_type": "text"
      },
      "cell_type": "markdown",
      "source": [
        "First let's import some packages that will be used throughout this notebook"
      ]
    },
    {
      "metadata": {
        "id": "lBOZfYtjYIri",
        "colab_type": "code",
        "colab": {}
      },
      "cell_type": "code",
      "source": [
        "import pandas as pd\n",
        "import numpy as np\n",
        "import seaborn as sns\n",
        "import matplotlib.pyplot as plt\n",
        "from scipy import stats"
      ],
      "execution_count": 0,
      "outputs": []
    },
    {
      "metadata": {
        "id": "susW1fuHZjUg",
        "colab_type": "text"
      },
      "cell_type": "markdown",
      "source": [
        "Let's import data using the pandas package (https://pandas.pydata.org/). The Pandas package helps us work with our datasets. We start by reading the training and test datasets into DataFrames."
      ]
    },
    {
      "metadata": {
        "id": "YG6RMIxGXQ7m",
        "colab_type": "code",
        "colab": {
          "base_uri": "https://localhost:8080/",
          "height": 256
        },
        "outputId": "94598917-22e8-4ec5-8ad2-5e81ee61b086"
      },
      "cell_type": "code",
      "source": [
        "# dataset is obtained from kaggle directly\n",
        "# you can change the directory to your own dataset\n",
        "train = pd.read_csv('/kaggle/home_price/dataset/train.csv')\n",
        "test = pd.read_csv('/kaggle/home_price/dataset/test.csv')\n",
        "train.head()"
      ],
      "execution_count": 2,
      "outputs": [
        {
          "output_type": "execute_result",
          "data": {
            "text/html": [
              "<div>\n",
              "<style scoped>\n",
              "    .dataframe tbody tr th:only-of-type {\n",
              "        vertical-align: middle;\n",
              "    }\n",
              "\n",
              "    .dataframe tbody tr th {\n",
              "        vertical-align: top;\n",
              "    }\n",
              "\n",
              "    .dataframe thead th {\n",
              "        text-align: right;\n",
              "    }\n",
              "</style>\n",
              "<table border=\"1\" class=\"dataframe\">\n",
              "  <thead>\n",
              "    <tr style=\"text-align: right;\">\n",
              "      <th></th>\n",
              "      <th>Id</th>\n",
              "      <th>MSSubClass</th>\n",
              "      <th>MSZoning</th>\n",
              "      <th>LotFrontage</th>\n",
              "      <th>LotArea</th>\n",
              "      <th>Street</th>\n",
              "      <th>Alley</th>\n",
              "      <th>LotShape</th>\n",
              "      <th>LandContour</th>\n",
              "      <th>Utilities</th>\n",
              "      <th>...</th>\n",
              "      <th>PoolArea</th>\n",
              "      <th>PoolQC</th>\n",
              "      <th>Fence</th>\n",
              "      <th>MiscFeature</th>\n",
              "      <th>MiscVal</th>\n",
              "      <th>MoSold</th>\n",
              "      <th>YrSold</th>\n",
              "      <th>SaleType</th>\n",
              "      <th>SaleCondition</th>\n",
              "      <th>SalePrice</th>\n",
              "    </tr>\n",
              "  </thead>\n",
              "  <tbody>\n",
              "    <tr>\n",
              "      <th>0</th>\n",
              "      <td>1</td>\n",
              "      <td>60</td>\n",
              "      <td>RL</td>\n",
              "      <td>65.0</td>\n",
              "      <td>8450</td>\n",
              "      <td>Pave</td>\n",
              "      <td>NaN</td>\n",
              "      <td>Reg</td>\n",
              "      <td>Lvl</td>\n",
              "      <td>AllPub</td>\n",
              "      <td>...</td>\n",
              "      <td>0</td>\n",
              "      <td>NaN</td>\n",
              "      <td>NaN</td>\n",
              "      <td>NaN</td>\n",
              "      <td>0</td>\n",
              "      <td>2</td>\n",
              "      <td>2008</td>\n",
              "      <td>WD</td>\n",
              "      <td>Normal</td>\n",
              "      <td>208500</td>\n",
              "    </tr>\n",
              "    <tr>\n",
              "      <th>1</th>\n",
              "      <td>2</td>\n",
              "      <td>20</td>\n",
              "      <td>RL</td>\n",
              "      <td>80.0</td>\n",
              "      <td>9600</td>\n",
              "      <td>Pave</td>\n",
              "      <td>NaN</td>\n",
              "      <td>Reg</td>\n",
              "      <td>Lvl</td>\n",
              "      <td>AllPub</td>\n",
              "      <td>...</td>\n",
              "      <td>0</td>\n",
              "      <td>NaN</td>\n",
              "      <td>NaN</td>\n",
              "      <td>NaN</td>\n",
              "      <td>0</td>\n",
              "      <td>5</td>\n",
              "      <td>2007</td>\n",
              "      <td>WD</td>\n",
              "      <td>Normal</td>\n",
              "      <td>181500</td>\n",
              "    </tr>\n",
              "    <tr>\n",
              "      <th>2</th>\n",
              "      <td>3</td>\n",
              "      <td>60</td>\n",
              "      <td>RL</td>\n",
              "      <td>68.0</td>\n",
              "      <td>11250</td>\n",
              "      <td>Pave</td>\n",
              "      <td>NaN</td>\n",
              "      <td>IR1</td>\n",
              "      <td>Lvl</td>\n",
              "      <td>AllPub</td>\n",
              "      <td>...</td>\n",
              "      <td>0</td>\n",
              "      <td>NaN</td>\n",
              "      <td>NaN</td>\n",
              "      <td>NaN</td>\n",
              "      <td>0</td>\n",
              "      <td>9</td>\n",
              "      <td>2008</td>\n",
              "      <td>WD</td>\n",
              "      <td>Normal</td>\n",
              "      <td>223500</td>\n",
              "    </tr>\n",
              "    <tr>\n",
              "      <th>3</th>\n",
              "      <td>4</td>\n",
              "      <td>70</td>\n",
              "      <td>RL</td>\n",
              "      <td>60.0</td>\n",
              "      <td>9550</td>\n",
              "      <td>Pave</td>\n",
              "      <td>NaN</td>\n",
              "      <td>IR1</td>\n",
              "      <td>Lvl</td>\n",
              "      <td>AllPub</td>\n",
              "      <td>...</td>\n",
              "      <td>0</td>\n",
              "      <td>NaN</td>\n",
              "      <td>NaN</td>\n",
              "      <td>NaN</td>\n",
              "      <td>0</td>\n",
              "      <td>2</td>\n",
              "      <td>2006</td>\n",
              "      <td>WD</td>\n",
              "      <td>Abnorml</td>\n",
              "      <td>140000</td>\n",
              "    </tr>\n",
              "    <tr>\n",
              "      <th>4</th>\n",
              "      <td>5</td>\n",
              "      <td>60</td>\n",
              "      <td>RL</td>\n",
              "      <td>84.0</td>\n",
              "      <td>14260</td>\n",
              "      <td>Pave</td>\n",
              "      <td>NaN</td>\n",
              "      <td>IR1</td>\n",
              "      <td>Lvl</td>\n",
              "      <td>AllPub</td>\n",
              "      <td>...</td>\n",
              "      <td>0</td>\n",
              "      <td>NaN</td>\n",
              "      <td>NaN</td>\n",
              "      <td>NaN</td>\n",
              "      <td>0</td>\n",
              "      <td>12</td>\n",
              "      <td>2008</td>\n",
              "      <td>WD</td>\n",
              "      <td>Normal</td>\n",
              "      <td>250000</td>\n",
              "    </tr>\n",
              "  </tbody>\n",
              "</table>\n",
              "<p>5 rows × 81 columns</p>\n",
              "</div>"
            ],
            "text/plain": [
              "   Id  MSSubClass MSZoning  LotFrontage  LotArea Street Alley LotShape  \\\n",
              "0   1          60       RL         65.0     8450   Pave   NaN      Reg   \n",
              "1   2          20       RL         80.0     9600   Pave   NaN      Reg   \n",
              "2   3          60       RL         68.0    11250   Pave   NaN      IR1   \n",
              "3   4          70       RL         60.0     9550   Pave   NaN      IR1   \n",
              "4   5          60       RL         84.0    14260   Pave   NaN      IR1   \n",
              "\n",
              "  LandContour Utilities    ...     PoolArea PoolQC Fence MiscFeature MiscVal  \\\n",
              "0         Lvl    AllPub    ...            0    NaN   NaN         NaN       0   \n",
              "1         Lvl    AllPub    ...            0    NaN   NaN         NaN       0   \n",
              "2         Lvl    AllPub    ...            0    NaN   NaN         NaN       0   \n",
              "3         Lvl    AllPub    ...            0    NaN   NaN         NaN       0   \n",
              "4         Lvl    AllPub    ...            0    NaN   NaN         NaN       0   \n",
              "\n",
              "  MoSold YrSold  SaleType  SaleCondition  SalePrice  \n",
              "0      2   2008        WD         Normal     208500  \n",
              "1      5   2007        WD         Normal     181500  \n",
              "2      9   2008        WD         Normal     223500  \n",
              "3      2   2006        WD        Abnorml     140000  \n",
              "4     12   2008        WD         Normal     250000  \n",
              "\n",
              "[5 rows x 81 columns]"
            ]
          },
          "metadata": {
            "tags": []
          },
          "execution_count": 2
        }
      ]
    },
    {
      "metadata": {
        "id": "ceWIDKbNaLIx",
        "colab_type": "text"
      },
      "cell_type": "markdown",
      "source": [
        "\n",
        "The Id column will not be required in this notebook. It will be useful when preparing the submission data into the kagggle plataform to evaluate the model. We will drop this column from the training and test datasets.\n"
      ]
    },
    {
      "metadata": {
        "id": "0ZzE90CKXSt5",
        "colab_type": "code",
        "colab": {
          "base_uri": "https://localhost:8080/",
          "height": 290
        },
        "outputId": "7b5b3a24-6cc6-4b3d-d3f1-3694be32874a"
      },
      "cell_type": "code",
      "source": [
        "# Save the 'Id' column\n",
        "train_ID = train['Id']\n",
        "test_ID = test['Id']\n",
        "\n",
        "# Now drop the  'Id' column as it's redundant for modeling\n",
        "train.drop(\"Id\", axis = 1, inplace = True)\n",
        "test.drop(\"Id\", axis = 1, inplace = True)\n",
        "\n",
        "print(train.shape)\n",
        "print(test.shape)\n",
        "train.head()"
      ],
      "execution_count": 3,
      "outputs": [
        {
          "output_type": "stream",
          "text": [
            "(1460, 80)\n",
            "(1459, 79)\n"
          ],
          "name": "stdout"
        },
        {
          "output_type": "execute_result",
          "data": {
            "text/html": [
              "<div>\n",
              "<style scoped>\n",
              "    .dataframe tbody tr th:only-of-type {\n",
              "        vertical-align: middle;\n",
              "    }\n",
              "\n",
              "    .dataframe tbody tr th {\n",
              "        vertical-align: top;\n",
              "    }\n",
              "\n",
              "    .dataframe thead th {\n",
              "        text-align: right;\n",
              "    }\n",
              "</style>\n",
              "<table border=\"1\" class=\"dataframe\">\n",
              "  <thead>\n",
              "    <tr style=\"text-align: right;\">\n",
              "      <th></th>\n",
              "      <th>MSSubClass</th>\n",
              "      <th>MSZoning</th>\n",
              "      <th>LotFrontage</th>\n",
              "      <th>LotArea</th>\n",
              "      <th>Street</th>\n",
              "      <th>Alley</th>\n",
              "      <th>LotShape</th>\n",
              "      <th>LandContour</th>\n",
              "      <th>Utilities</th>\n",
              "      <th>LotConfig</th>\n",
              "      <th>...</th>\n",
              "      <th>PoolArea</th>\n",
              "      <th>PoolQC</th>\n",
              "      <th>Fence</th>\n",
              "      <th>MiscFeature</th>\n",
              "      <th>MiscVal</th>\n",
              "      <th>MoSold</th>\n",
              "      <th>YrSold</th>\n",
              "      <th>SaleType</th>\n",
              "      <th>SaleCondition</th>\n",
              "      <th>SalePrice</th>\n",
              "    </tr>\n",
              "  </thead>\n",
              "  <tbody>\n",
              "    <tr>\n",
              "      <th>0</th>\n",
              "      <td>60</td>\n",
              "      <td>RL</td>\n",
              "      <td>65.0</td>\n",
              "      <td>8450</td>\n",
              "      <td>Pave</td>\n",
              "      <td>NaN</td>\n",
              "      <td>Reg</td>\n",
              "      <td>Lvl</td>\n",
              "      <td>AllPub</td>\n",
              "      <td>Inside</td>\n",
              "      <td>...</td>\n",
              "      <td>0</td>\n",
              "      <td>NaN</td>\n",
              "      <td>NaN</td>\n",
              "      <td>NaN</td>\n",
              "      <td>0</td>\n",
              "      <td>2</td>\n",
              "      <td>2008</td>\n",
              "      <td>WD</td>\n",
              "      <td>Normal</td>\n",
              "      <td>208500</td>\n",
              "    </tr>\n",
              "    <tr>\n",
              "      <th>1</th>\n",
              "      <td>20</td>\n",
              "      <td>RL</td>\n",
              "      <td>80.0</td>\n",
              "      <td>9600</td>\n",
              "      <td>Pave</td>\n",
              "      <td>NaN</td>\n",
              "      <td>Reg</td>\n",
              "      <td>Lvl</td>\n",
              "      <td>AllPub</td>\n",
              "      <td>FR2</td>\n",
              "      <td>...</td>\n",
              "      <td>0</td>\n",
              "      <td>NaN</td>\n",
              "      <td>NaN</td>\n",
              "      <td>NaN</td>\n",
              "      <td>0</td>\n",
              "      <td>5</td>\n",
              "      <td>2007</td>\n",
              "      <td>WD</td>\n",
              "      <td>Normal</td>\n",
              "      <td>181500</td>\n",
              "    </tr>\n",
              "    <tr>\n",
              "      <th>2</th>\n",
              "      <td>60</td>\n",
              "      <td>RL</td>\n",
              "      <td>68.0</td>\n",
              "      <td>11250</td>\n",
              "      <td>Pave</td>\n",
              "      <td>NaN</td>\n",
              "      <td>IR1</td>\n",
              "      <td>Lvl</td>\n",
              "      <td>AllPub</td>\n",
              "      <td>Inside</td>\n",
              "      <td>...</td>\n",
              "      <td>0</td>\n",
              "      <td>NaN</td>\n",
              "      <td>NaN</td>\n",
              "      <td>NaN</td>\n",
              "      <td>0</td>\n",
              "      <td>9</td>\n",
              "      <td>2008</td>\n",
              "      <td>WD</td>\n",
              "      <td>Normal</td>\n",
              "      <td>223500</td>\n",
              "    </tr>\n",
              "    <tr>\n",
              "      <th>3</th>\n",
              "      <td>70</td>\n",
              "      <td>RL</td>\n",
              "      <td>60.0</td>\n",
              "      <td>9550</td>\n",
              "      <td>Pave</td>\n",
              "      <td>NaN</td>\n",
              "      <td>IR1</td>\n",
              "      <td>Lvl</td>\n",
              "      <td>AllPub</td>\n",
              "      <td>Corner</td>\n",
              "      <td>...</td>\n",
              "      <td>0</td>\n",
              "      <td>NaN</td>\n",
              "      <td>NaN</td>\n",
              "      <td>NaN</td>\n",
              "      <td>0</td>\n",
              "      <td>2</td>\n",
              "      <td>2006</td>\n",
              "      <td>WD</td>\n",
              "      <td>Abnorml</td>\n",
              "      <td>140000</td>\n",
              "    </tr>\n",
              "    <tr>\n",
              "      <th>4</th>\n",
              "      <td>60</td>\n",
              "      <td>RL</td>\n",
              "      <td>84.0</td>\n",
              "      <td>14260</td>\n",
              "      <td>Pave</td>\n",
              "      <td>NaN</td>\n",
              "      <td>IR1</td>\n",
              "      <td>Lvl</td>\n",
              "      <td>AllPub</td>\n",
              "      <td>FR2</td>\n",
              "      <td>...</td>\n",
              "      <td>0</td>\n",
              "      <td>NaN</td>\n",
              "      <td>NaN</td>\n",
              "      <td>NaN</td>\n",
              "      <td>0</td>\n",
              "      <td>12</td>\n",
              "      <td>2008</td>\n",
              "      <td>WD</td>\n",
              "      <td>Normal</td>\n",
              "      <td>250000</td>\n",
              "    </tr>\n",
              "  </tbody>\n",
              "</table>\n",
              "<p>5 rows × 80 columns</p>\n",
              "</div>"
            ],
            "text/plain": [
              "   MSSubClass MSZoning  LotFrontage  LotArea Street Alley LotShape  \\\n",
              "0          60       RL         65.0     8450   Pave   NaN      Reg   \n",
              "1          20       RL         80.0     9600   Pave   NaN      Reg   \n",
              "2          60       RL         68.0    11250   Pave   NaN      IR1   \n",
              "3          70       RL         60.0     9550   Pave   NaN      IR1   \n",
              "4          60       RL         84.0    14260   Pave   NaN      IR1   \n",
              "\n",
              "  LandContour Utilities LotConfig    ...     PoolArea PoolQC Fence  \\\n",
              "0         Lvl    AllPub    Inside    ...            0    NaN   NaN   \n",
              "1         Lvl    AllPub       FR2    ...            0    NaN   NaN   \n",
              "2         Lvl    AllPub    Inside    ...            0    NaN   NaN   \n",
              "3         Lvl    AllPub    Corner    ...            0    NaN   NaN   \n",
              "4         Lvl    AllPub       FR2    ...            0    NaN   NaN   \n",
              "\n",
              "  MiscFeature MiscVal MoSold  YrSold  SaleType  SaleCondition  SalePrice  \n",
              "0         NaN       0      2    2008        WD         Normal     208500  \n",
              "1         NaN       0      5    2007        WD         Normal     181500  \n",
              "2         NaN       0      9    2008        WD         Normal     223500  \n",
              "3         NaN       0      2    2006        WD        Abnorml     140000  \n",
              "4         NaN       0     12    2008        WD         Normal     250000  \n",
              "\n",
              "[5 rows x 80 columns]"
            ]
          },
          "metadata": {
            "tags": []
          },
          "execution_count": 3
        }
      ]
    },
    {
      "metadata": {
        "id": "tHgsHib5eJmH",
        "colab_type": "text"
      },
      "cell_type": "markdown",
      "source": [
        "## Data Preparation"
      ]
    },
    {
      "metadata": {
        "id": "MbhcPgjDa_1S",
        "colab_type": "text"
      },
      "cell_type": "markdown",
      "source": [
        "### Missing values\n",
        "\n",
        "A missing value is an entry in a column that has no assigned value. A missing value may be the **result of an error during the production of the dataset**. This could be a human error, or machinery error depending on where the data comes from. \n",
        "\n",
        "Some algorithms do not like missing values. Some are capable of handling them, but others are not. Therefore since we are using a variety of algorithms, it's best to treat them in an appropriate way.\n",
        "\n",
        "**If you have missing values, you have two options**:\n",
        "- Delete the entire row\n",
        "- Fill the missing entry with an imputed value\n",
        "\n",
        "In this notebook we will fill the missing entries with values according to the description of the dataset."
      ]
    },
    {
      "metadata": {
        "id": "N4_vO_fAZZqK",
        "colab_type": "code",
        "colab": {
          "base_uri": "https://localhost:8080/",
          "height": 34
        },
        "outputId": "23d25cba-0b74-475f-819a-82c91e183e07"
      },
      "cell_type": "code",
      "source": [
        "# First of all, save the length of the training and test data for use later\n",
        "num_train = train.shape[0]\n",
        "num_test = test.shape[0]\n",
        "\n",
        "# Also save the target value, as we will remove this\n",
        "y_train = train.SalePrice.values\n",
        "\n",
        "# concatenate training and test data into all_data\n",
        "all_data = pd.concat((train, test)).reset_index(drop=True)\n",
        "all_data.drop(['SalePrice'], axis=1, inplace=True)\n",
        "\n",
        "print(\"all_data shape: {}\".format(all_data.shape))"
      ],
      "execution_count": 4,
      "outputs": [
        {
          "output_type": "stream",
          "text": [
            "all_data shape: (2919, 79)\n"
          ],
          "name": "stdout"
        }
      ]
    },
    {
      "metadata": {
        "id": "eQzbO5LD3Jzc",
        "colab_type": "code",
        "colab": {
          "base_uri": "https://localhost:8080/",
          "height": 647
        },
        "outputId": "f0632447-b8f6-46d3-a3db-fb6cd5362960"
      },
      "cell_type": "code",
      "source": [
        "# aggregate all null values \n",
        "all_data_na = all_data.isnull().sum()\n",
        "\n",
        "# get rid of all the values with 0 missing values\n",
        "all_data_na = all_data_na.drop(all_data_na[all_data_na == 0].index).sort_values(ascending=False)\n",
        "plt.subplots(figsize =(15, 10))\n",
        "all_data_na.plot(kind='bar');"
      ],
      "execution_count": 5,
      "outputs": [
        {
          "output_type": "display_data",
          "data": {
            "image/png": "[encoded data removed]",
            "text/plain": [
              "<Figure size 1080x720 with 1 Axes>"
            ]
          },
          "metadata": {
            "tags": []
          }
        }
      ]
    },
    {
      "metadata": {
        "id": "XZEkCSbMAe0X",
        "colab_type": "text"
      },
      "cell_type": "markdown",
      "source": [
        "**PoolQC : **  Pool quality\n",
        "\n",
        "* Ex - Excellent\n",
        "* Gd - Good\n",
        "* TA - Average/Typical\n",
        "* Fa - Fair\n",
        "* NA - No Pool\n",
        " \n",
        "Data description says NA means \"No Pool\". That make sense, given the huge ratio of missing value (+99%) and majority of houses have no Pool at all in general. \n",
        "\n"
      ]
    },
    {
      "metadata": {
        "id": "7BEh7FdPArfp",
        "colab_type": "code",
        "colab": {
          "base_uri": "https://localhost:8080/",
          "height": 208
        },
        "outputId": "caf2aa89-de50-43db-bacf-205c24ffcaa5"
      },
      "cell_type": "code",
      "source": [
        "all_data['PoolQC'][all_data['PoolQC'].notnull()]"
      ],
      "execution_count": 6,
      "outputs": [
        {
          "output_type": "execute_result",
          "data": {
            "text/plain": [
              "197     Ex\n",
              "810     Fa\n",
              "1170    Gd\n",
              "1182    Ex\n",
              "1298    Gd\n",
              "1386    Fa\n",
              "1423    Gd\n",
              "1974    Ex\n",
              "2573    Ex\n",
              "2710    Gd\n",
              "Name: PoolQC, dtype: object"
            ]
          },
          "metadata": {
            "tags": []
          },
          "execution_count": 6
        }
      ]
    },
    {
      "metadata": {
        "id": "TPM0bNI46zq9",
        "colab_type": "code",
        "colab": {}
      },
      "cell_type": "code",
      "source": [
        "all_data['PoolQC'] = all_data['PoolQC'].fillna('None')"
      ],
      "execution_count": 0,
      "outputs": []
    },
    {
      "metadata": {
        "id": "YhMFx8P9A-ze",
        "colab_type": "code",
        "colab": {
          "base_uri": "https://localhost:8080/",
          "height": 121
        },
        "outputId": "06e9d660-6975-4b9b-b871-83cac6b1df07"
      },
      "cell_type": "code",
      "source": [
        "all_data['PoolQC'].head()"
      ],
      "execution_count": 8,
      "outputs": [
        {
          "output_type": "execute_result",
          "data": {
            "text/plain": [
              "0    None\n",
              "1    None\n",
              "2    None\n",
              "3    None\n",
              "4    None\n",
              "Name: PoolQC, dtype: object"
            ]
          },
          "metadata": {
            "tags": []
          },
          "execution_count": 8
        }
      ]
    },
    {
      "metadata": {
        "id": "Pgk-yfohBG2c",
        "colab_type": "text"
      },
      "cell_type": "markdown",
      "source": [
        "**MiscFeature:** Miscellaneous feature not covered in other categories\n",
        "\n",
        "* Elev - Elevator\n",
        "* Gar2 - 2nd Garage (if not described in garage section)\n",
        "* Othr - Other\n",
        "* Shed - Shed (over 100 SF)\n",
        "* TenC - Tennis Court\n",
        "* NA - None\n",
        "\n",
        "Data description says NA means \"no misc feature\""
      ]
    },
    {
      "metadata": {
        "id": "DQVAjp3zBWar",
        "colab_type": "code",
        "colab": {}
      },
      "cell_type": "code",
      "source": [
        "all_data['MiscFeature'] = all_data['MiscFeature'].fillna('None')"
      ],
      "execution_count": 0,
      "outputs": []
    },
    {
      "metadata": {
        "id": "qDLqwv9eHXwL",
        "colab_type": "text"
      },
      "cell_type": "markdown",
      "source": [
        "**Alley:** Type of alley access to property\n",
        "\n",
        "* Grvl - Gravel\n",
        "* Pave - Paved\n",
        "* NA - No alley access\n",
        "\n",
        "**Fence:** Fence quality\n",
        "\n",
        "* GdPrv - Good Privacy\n",
        "* MnPrv - Minimum Privacy\n",
        "* GdWo - Good Wood\n",
        "* MnWw - Minimum Wood/Wire\n",
        "* NA - No Fence\n",
        "\n",
        "**FireplaceQu:** Fireplace quality\n",
        "\n",
        "* Ex - Excellent - Exceptional Masonry Fireplace\n",
        "* Gd - Good - Masonry Fireplace in main level\n",
        "* TA - Average - Prefabricated Fireplace in main living area or Masonry Fireplace in basement\n",
        "* Fa - Fair - Prefabricated Fireplace in basement\n",
        "* Po - Poor - Ben Franklin Stove\n",
        "* NA - No Fireplace\n",
        "\n",
        "**GarageType:** Garage location\n",
        "\n",
        "* 2Types - More than one type of garage\n",
        "* Attchd - Attached to home\n",
        "* Basment - Basement Garage\n",
        "* BuiltIn - Built-In (Garage part of house - typically has room above garage)\n",
        "* CarPort - Car Port\n",
        "* Detchd - Detached from home\n",
        "* NA - No Garage\n",
        "\n",
        "**GarageFinish:** Interior finish of the garage\n",
        "\n",
        "* Fin - Finished\n",
        "* RFn - Rough Finished  \n",
        "* Unf - Unfinished\n",
        "* NA - No Garage\n",
        "\n",
        "**GarageQual:** Garage quality\n",
        "\n",
        "* Ex - Excellent\n",
        "* Gd - Good\n",
        "* TA - Typical/Average\n",
        "* Fa - Fair\n",
        "* Po - Poor\n",
        "* NA - No Garage\n",
        "\n",
        "**GarageCond:** Garage condition\n",
        "\n",
        "* Ex - Excellent\n",
        "* Gd - Good\n",
        "* TA - Typical/Average\n",
        "* Fa - Fair\n",
        "* Po - Poor\n",
        "* NA - No Garage\n",
        "\n",
        "**BsmtQual:** Evaluates the height of the basement\n",
        "\n",
        "* Ex - Excellent (100+ inches) \n",
        "* Gd - Good (90-99 inches)\n",
        "* TA - Typical (80-89 inches)\n",
        "* Fa - Fair (70-79 inches)\n",
        "* Po - Poor (&lt;70 inches\n",
        "* NA - No Basement\n",
        "\n",
        "**BsmtCond:** Evaluates the general condition of the basement\n",
        "\n",
        "* Ex - Excellent\n",
        "* Gd - Good\n",
        "* TA - Typical - slight dampness allowed\n",
        "* Fa - Fair - dampness or some cracking or settling\n",
        "* Po - Poor - Severe cracking, settling, or wetness\n",
        "* NA - No Basement\n",
        "\n",
        "**BsmtExposure:** Refers to walkout or garden level walls\n",
        "\n",
        "* Gd - Good Exposure\n",
        "* Av - Average Exposure (split levels or foyers typically score average or above)  \n",
        "* Mn - Mimimum Exposure\n",
        "* No - No Exposure\n",
        "* NA - No Basement\n",
        "\n",
        "**BsmtFinType1:** Rating of basement finished area\n",
        "\n",
        "* GLQ - Good Living Quarters\n",
        "* ALQ - Average Living Quarters\n",
        "* BLQ - Below Average Living Quarters \n",
        "* Rec - Average Rec Room\n",
        "* LwQ - Low Quality\n",
        "* Unf - Unfinshed\n",
        "* NA - No Basement\n",
        "\n",
        "**BsmtFinType2:** Rating of basement finished area (if multiple types)\n",
        "\n",
        "* GLQ - Good Living Quarters\n",
        "* ALQ - Average Living Quarters\n",
        "* BLQ - Below Average Living Quarters \n",
        "* Rec - Average Rec Room\n",
        "* LwQ - Low Quality\n",
        "* Unf - Unfinshed\n",
        "* NA - No Basement\n",
        "\n",
        "**MasVnrType:** Masonry veneer type\n",
        "\n",
        "* BrkCmn - Brick Common\n",
        "* BrkFace -  Brick Face\n",
        "* CBlock - Cinder Block\n",
        "* None - None\n",
        "* Stone - Stone\n"
      ]
    },
    {
      "metadata": {
        "id": "OvEQgh5m_QPT",
        "colab_type": "code",
        "colab": {}
      },
      "cell_type": "code",
      "source": [
        "# Using data description, fill these missing values with \"None\"\n",
        "for col in (\"PoolQC\", \"MiscFeature\", \"Alley\", \"Fence\", \"FireplaceQu\",\n",
        "           \"GarageType\", \"GarageFinish\", \"GarageQual\", \"GarageCond\",\n",
        "           \"BsmtQual\", \"BsmtCond\", \"BsmtExposure\", \"BsmtFinType1\",\n",
        "            \"BsmtFinType2\", \"MasVnrType\"):\n",
        "    all_data[col] = all_data[col].fillna(\"None\")"
      ],
      "execution_count": 0,
      "outputs": []
    },
    {
      "metadata": {
        "id": "IXRXtOuOYjKd",
        "colab_type": "text"
      },
      "cell_type": "markdown",
      "source": [
        "**LotFrontage :** Since the area of each street connected to the house property most likely have a similar area to other houses in its neighborhood , we can fill in missing values by the **median** LotFrontage of the neighborhood."
      ]
    },
    {
      "metadata": {
        "id": "rl2mq8z_l7g2",
        "colab_type": "code",
        "colab": {
          "base_uri": "https://localhost:8080/",
          "height": 486
        },
        "outputId": "e581773a-de65-4026-b337-03a07bc47db1"
      },
      "cell_type": "code",
      "source": [
        "# example of groupby and mean w.r.t. lost frontage\n",
        "all_data.groupby(\"Neighborhood\")[\"LotFrontage\"].median()"
      ],
      "execution_count": 11,
      "outputs": [
        {
          "output_type": "execute_result",
          "data": {
            "text/plain": [
              "Neighborhood\n",
              "Blmngtn    43.0\n",
              "Blueste    24.0\n",
              "BrDale     21.0\n",
              "BrkSide    51.0\n",
              "ClearCr    80.5\n",
              "CollgCr    70.0\n",
              "Crawfor    70.0\n",
              "Edwards    65.0\n",
              "Gilbert    64.0\n",
              "IDOTRR     60.0\n",
              "MeadowV    21.0\n",
              "Mitchel    74.0\n",
              "NAmes      73.0\n",
              "NPkVill    24.0\n",
              "NWAmes     80.0\n",
              "NoRidge    89.0\n",
              "NridgHt    92.0\n",
              "OldTown    60.0\n",
              "SWISU      60.0\n",
              "Sawyer     72.0\n",
              "SawyerW    67.0\n",
              "Somerst    72.5\n",
              "StoneBr    60.0\n",
              "Timber     82.0\n",
              "Veenker    80.0\n",
              "Name: LotFrontage, dtype: float64"
            ]
          },
          "metadata": {
            "tags": []
          },
          "execution_count": 11
        }
      ]
    },
    {
      "metadata": {
        "id": "ka4lGCUsN8T8",
        "colab_type": "code",
        "colab": {}
      },
      "cell_type": "code",
      "source": [
        "all_data[\"LotFrontage\"] = all_data.groupby(\"Neighborhood\")[\"LotFrontage\"].transform(lambda x: x.fillna(x.median()))"
      ],
      "execution_count": 0,
      "outputs": []
    },
    {
      "metadata": {
        "id": "O1HQcAAvmjxz",
        "colab_type": "text"
      },
      "cell_type": "markdown",
      "source": [
        "**GarageYrBlt:** Year garage was built\n",
        "\n",
        "**GarageCars:** Size of garage in car capacity\n",
        "\n",
        "**GarageArea:** Size of garage in square feet\n",
        "\n",
        "**BsmtFinSF1:** Type 1 finished square feet\n",
        "\n",
        "**BsmtFinSF2:** Type 2 finished square feet\n",
        "\n",
        "**BsmtUnfSF:** Unfinished square feet of basement area\n",
        "\n",
        "**TotalBsmtSF:** Total square feet of basement area\n",
        "\n",
        "**MasVnrArea:** Masonry veneer area in square feet\n",
        "\n",
        "**BsmtFullBath:** Basement full bathrooms\n",
        "\n",
        "**BsmtHalfBath:** Basement half bathrooms"
      ]
    },
    {
      "metadata": {
        "id": "kQ5HVXJsaFeo",
        "colab_type": "code",
        "colab": {}
      },
      "cell_type": "code",
      "source": [
        "# Using data description, fill these missing values with 0 \n",
        "for col in (\"GarageYrBlt\", \"GarageArea\", \"GarageCars\", \"BsmtFinSF1\", \n",
        "           \"BsmtFinSF2\", \"BsmtUnfSF\", \"TotalBsmtSF\", \"MasVnrArea\",\n",
        "           \"BsmtFullBath\", \"BsmtHalfBath\"):\n",
        "    all_data[col] = all_data[col].fillna(0)"
      ],
      "execution_count": 0,
      "outputs": []
    },
    {
      "metadata": {
        "id": "Uwo9fiqIofoq",
        "colab_type": "code",
        "colab": {
          "base_uri": "https://localhost:8080/",
          "height": 636
        },
        "outputId": "c5f0999d-5e6e-4e59-ca9e-a48a24c51f30"
      },
      "cell_type": "code",
      "source": [
        "# aggregate all null values \n",
        "all_data_na = all_data.isnull().sum()\n",
        "\n",
        "# get rid of all the values with 0 missing values\n",
        "all_data_na = all_data_na.drop(all_data_na[all_data_na == 0].index).sort_values(ascending=False)\n",
        "plt.subplots(figsize =(15, 10))\n",
        "all_data_na.plot(kind='bar');"
      ],
      "execution_count": 14,
      "outputs": [
        {
          "output_type": "display_data",
          "data": {
            "image/png": "[encoded data removed]",
            "text/plain": [
              "<Figure size 1080x720 with 1 Axes>"
            ]
          },
          "metadata": {
            "tags": []
          }
        }
      ]
    },
    {
      "metadata": {
        "id": "ITkV0BNZnMP4",
        "colab_type": "text"
      },
      "cell_type": "markdown",
      "source": [
        "**MSZoning:** Identifies the general zoning classification of the sale.\n",
        "\n",
        "* A - Agriculture\n",
        "* C - Commercial\n",
        "* FV - Floating Village Residential\n",
        "* I - Industrial\n",
        "* RH - Residential High Density\n",
        "* RL - Residential Low Density\n",
        "* RP - Residential Low Density Park \n",
        "* RM - Residential Medium Density\n",
        "\n",
        "\n",
        "**Utilities:** Type of utilities available\n",
        "\n",
        "* AllPub - All public Utilities (E,G,W,& S)  \n",
        "* NoSewr - Electricity, Gas, and Water (Septic Tank)\n",
        "* NoSeWa - Electricity and Gas Only\n",
        "* ELO - Electricity only  \n",
        "\n",
        "**Functional:** Home functionality (Assume typical unless deductions are warranted)\n",
        "\n",
        "* Typ - Typical Functionality\n",
        "* Min1 - Minor Deductions 1\n",
        "* Min2 - Minor Deductions 2\n",
        "* Mod - Moderate Deductions\n",
        "* Maj1 - Major Deductions 1\n",
        "* Maj2 - Major Deductions 2\n",
        "* Sev - Severely Damaged\n",
        "* Sal - Salvage only\n",
        "\n",
        "\n",
        "**SaleType:** Type of sale\n",
        "\n",
        "* WD - Warranty Deed - Conventional\n",
        "* CWD - Warranty Deed - Cash\n",
        "* VWD - Warranty Deed - VA Loan\n",
        "* New - Home just constructed and sold\n",
        "* COD - Court Officer Deed/Estate\n",
        "* Con - Contract 15% Down payment regular terms\n",
        "* ConLw - Contract Low Down payment and low interest\n",
        "* ConLI - Contract Low Interest\n",
        "* ConLD - Contract Low Down\n",
        "* Oth - Other\n",
        "\n",
        "**KitchenQual:** Kitchen quality\n",
        "\n",
        "* Ex - Excellent\n",
        "* Gd - Good\n",
        "* TA - Typical/Average\n",
        "* Fa - Fair\n",
        "* Po - Poor\n",
        "\n",
        "**Exterior1st:** Exterior covering on house\n",
        "\n",
        "* AsbShng - Asbestos Shingles\n",
        "* AsphShn - Asphalt Shingles\n",
        "* BrkComm - Brick Common\n",
        "* BrkFace - Brick Face\n",
        "* CBlock - Cinder Block\n",
        "* CemntBd - Cement Board\n",
        "* HdBoard - Hard Board\n",
        "* ImStucc - Imitation Stucco\n",
        "* MetalSd - Metal Siding\n",
        "* Other - Other\n",
        "* Plywood - Plywood\n",
        "* PreCast - PreCast \n",
        "* Stone - Stone\n",
        "* Stucco - Stucco\n",
        "* VinylSd - Vinyl Siding\n",
        "* Wd Sdng - Wood Siding\n",
        "* WdShing - Wood Shingles\n",
        "\n",
        "**Exterior2nd:** Exterior covering on house (if more than one material)\n",
        "\n",
        "* AsbShng - Asbestos Shingles\n",
        "* AsphShn - Asphalt Shingles\n",
        "* BrkComm - Brick Common\n",
        "* BrkFace - Brick Face\n",
        "* CBlock - Cinder Block\n",
        "* CemntBd - Cement Board\n",
        "* HdBoard - Hard Board\n",
        "* ImStucc - Imitation Stucco\n",
        "* MetalSd - Metal Siding\n",
        "* Other - Other\n",
        "* Plywood - Plywood\n",
        "* PreCast - PreCast\n",
        "* Stone - Stone\n",
        "* Stucco - Stucco\n",
        "* VinylSd - Vinyl Siding\n",
        "* Wd Sdng - Wood Siding\n",
        "* WdShing - Wood Shingles\n",
        "\n",
        "**Electrical:** Electrical system\n",
        "\n",
        "* SBrkr - Standard Circuit Breakers & Romex\n",
        "* FuseA - Fuse Box over 60 AMP and all Romex wiring (Average) \n",
        "* FuseF - 60 AMP Fuse Box and mostly Romex wiring (Fair)\n",
        "* FuseP - 60 AMP Fuse Box and mostly knob & tube wiring (poor)\n",
        "* Mix - Mixed"
      ]
    },
    {
      "metadata": {
        "id": "OkoUTT9VrxIS",
        "colab_type": "text"
      },
      "cell_type": "markdown",
      "source": [
        "Fill these features with their mode, the most commonly occuring value. This is okay since there are a low number of missing values for these features"
      ]
    },
    {
      "metadata": {
        "id": "P9q1Vp_-utGM",
        "colab_type": "code",
        "colab": {
          "base_uri": "https://localhost:8080/",
          "height": 517
        },
        "outputId": "df62b5d6-9171-4973-9770-55a70debeac9"
      },
      "cell_type": "code",
      "source": [
        "feature_columns = [\"MSZoning\", \"Utilities\", \"Functional\", \"SaleType\", \"KitchenQual\", \"Exterior2nd\", \"Exterior1st\", \"Electrical\"]\n",
        "\n",
        "plt.subplots(figsize =(15, 8))\n",
        "for i in range(0, len(feature_columns)):\n",
        "  plt.subplot(2, 4, i+1)\n",
        "  all_data[feature_columns[i]].value_counts().plot(kind='bar');"
      ],
      "execution_count": 15,
      "outputs": [
        {
          "output_type": "display_data",
          "data": {
            "image/png": "[encoded data removed]",
            "text/plain": [
              "<Figure size 1080x576 with 8 Axes>"
            ]
          },
          "metadata": {
            "tags": []
          }
        }
      ]
    },
    {
      "metadata": {
        "id": "Dw7HVjgirA36",
        "colab_type": "code",
        "colab": {}
      },
      "cell_type": "code",
      "source": [
        "for col in feature_columns:\n",
        "  all_data[col] = all_data[col].fillna(all_data[col].mode()[0])"
      ],
      "execution_count": 0,
      "outputs": []
    },
    {
      "metadata": {
        "id": "fj0_zfh-wO7i",
        "colab_type": "text"
      },
      "cell_type": "markdown",
      "source": [
        "The categorical feature **Utilities** has an strange behaviour regarding the value count. Let's analize it."
      ]
    },
    {
      "metadata": {
        "id": "d8a2YKvtwPVE",
        "colab_type": "code",
        "colab": {
          "base_uri": "https://localhost:8080/",
          "height": 404
        },
        "outputId": "85a17819-123f-4ec8-efa9-bd4a2dc6b99c"
      },
      "cell_type": "code",
      "source": [
        "plt.subplots(figsize =(15, 5))\n",
        "\n",
        "plt.subplot(1, 2, 1)\n",
        "g = sns.countplot(x = \"Utilities\", data = train).set_title(\"Utilities - Training\")\n",
        "\n",
        "plt.subplot(1, 2, 2)\n",
        "g = sns.countplot(x = \"Utilities\", data = test).set_title(\"Utilities - Test\")"
      ],
      "execution_count": 17,
      "outputs": [
        {
          "output_type": "stream",
          "text": [
            "/usr/local/lib/python2.7/dist-packages/seaborn/categorical.py:1428: FutureWarning: remove_na is deprecated and is a private function. Do not use.\n",
            "  stat_data = remove_na(group_data)\n"
          ],
          "name": "stderr"
        },
        {
          "output_type": "display_data",
          "data": {
            "image/png": "[encoded data removed]",
            "text/plain": [
              "<Figure size 1080x360 with 2 Axes>"
            ]
          },
          "metadata": {
            "tags": []
          }
        }
      ]
    },
    {
      "metadata": {
        "id": "EAC9cL9Lwq6r",
        "colab_type": "text"
      },
      "cell_type": "markdown",
      "source": [
        "**Utilities :** For this categorical feature all records are \"AllPub\", except for one \"NoSeWa\" and 20 NA . Since the house with 'NoSewa' is in the training set, this feature won't help in predictive modelling. We can then safely remove it."
      ]
    },
    {
      "metadata": {
        "id": "6JROkFWwxHDn",
        "colab_type": "code",
        "colab": {
          "base_uri": "https://localhost:8080/",
          "height": 34
        },
        "outputId": "d2598fbf-90a6-4008-b52c-eec8e8a9051f"
      },
      "cell_type": "code",
      "source": [
        "# From inspection, we can remove Utilities\n",
        "all_data = all_data.drop(['Utilities'], axis=1)\n",
        "\n",
        "all_data_na = all_data.isnull().sum()\n",
        "print(\"Features with missing values: \", len(all_data_na.drop(all_data_na[all_data_na == 0].index)))"
      ],
      "execution_count": 18,
      "outputs": [
        {
          "output_type": "stream",
          "text": [
            "('Features with missing values: ', 0)\n"
          ],
          "name": "stdout"
        }
      ]
    },
    {
      "metadata": {
        "id": "ODiVOEtvcvzO",
        "colab_type": "text"
      },
      "cell_type": "markdown",
      "source": [
        "## Feature Engineering"
      ]
    },
    {
      "metadata": {
        "colab_type": "text",
        "id": "OumwpHmnqs7o"
      },
      "cell_type": "markdown",
      "source": [
        "### Convert numerical to categorical"
      ]
    },
    {
      "metadata": {
        "colab_type": "text",
        "id": "Vjaq9sUSqs8B"
      },
      "cell_type": "markdown",
      "source": [
        "**MSSubClass:** Identifies the type of dwelling involved in the sale.\n",
        "\n",
        "* 20 - 1-STORY 1946 & NEWER ALL STYLES\n",
        "* 30 - 1-STORY 1945 & OLDER\n",
        "* 40 - 1-STORY W/FINISHED ATTIC ALL AGES\n",
        "* 45 - 1-1/2 STORY - UNFINISHED ALL AGES\n",
        "* 50 - 1-1/2 STORY FINISHED ALL AGES\n",
        "* 60 - 2-STORY 1946 & NEWER\n",
        "* 70 - 2-STORY 1945 & OLDER\n",
        "* 75 - 2-1/2 STORY ALL AGES\n",
        "* 80 - SPLIT OR MULTI-LEVEL\n",
        "* 85 - SPLIT FOYER\n",
        "* 90 - DUPLEX - ALL STYLES AND AGES\n",
        "* 120 - 1-STORY PUD (Planned Unit Development) - 1946 & NEWER\n",
        "* 150 - 1-1/2 STORY PUD - ALL AGES\n",
        "* 160 - 2-STORY PUD - 1946 & NEWER\n",
        "* 180 - PUD - MULTILEVEL - INCL SPLIT LEV/FOYER\n",
        "* 190 - 2 FAMILY CONVERSION - ALL STYLES AND AGES"
      ]
    },
    {
      "metadata": {
        "colab_type": "code",
        "id": "b9nQyoFhqs8Q",
        "colab": {
          "base_uri": "https://localhost:8080/",
          "height": 121
        },
        "outputId": "445e5947-6055-4058-91b9-54aee8a12d6d"
      },
      "cell_type": "code",
      "source": [
        "all_data['MSSubClass'].head()"
      ],
      "execution_count": 19,
      "outputs": [
        {
          "output_type": "execute_result",
          "data": {
            "text/plain": [
              "0    60\n",
              "1    20\n",
              "2    60\n",
              "3    70\n",
              "4    60\n",
              "Name: MSSubClass, dtype: int64"
            ]
          },
          "metadata": {
            "tags": []
          },
          "execution_count": 19
        }
      ]
    },
    {
      "metadata": {
        "colab_type": "code",
        "id": "zYKeaCF_qs8q",
        "colab": {}
      },
      "cell_type": "code",
      "source": [
        "all_data['MSSubClass'] = all_data['MSSubClass'].astype(str)"
      ],
      "execution_count": 0,
      "outputs": []
    },
    {
      "metadata": {
        "colab_type": "text",
        "id": "fanksdZSqs8z"
      },
      "cell_type": "markdown",
      "source": [
        "**MoSold:** Month Sold (MM)\n",
        "\n",
        "**YrSold:** Year Sold (YYYY)"
      ]
    },
    {
      "metadata": {
        "colab_type": "code",
        "id": "HZIZPKC8qs82",
        "colab": {}
      },
      "cell_type": "code",
      "source": [
        "#Year and month sold are transformed into categorical features.\n",
        "all_data['YrSold'] = all_data['YrSold'].astype(str)\n",
        "all_data['MoSold'] = all_data['MoSold'].astype(str)"
      ],
      "execution_count": 0,
      "outputs": []
    },
    {
      "metadata": {
        "id": "PMDw3Sjp2LLC",
        "colab_type": "text"
      },
      "cell_type": "markdown",
      "source": [
        "### Save numeric and categorical feature column names"
      ]
    },
    {
      "metadata": {
        "id": "vD95riKP2Lgu",
        "colab_type": "code",
        "colab": {
          "base_uri": "https://localhost:8080/",
          "height": 52
        },
        "outputId": "c3a7c1f3-0041-469b-82a1-5d6ebb973e00"
      },
      "cell_type": "code",
      "source": [
        "numeric_feats = all_data.dtypes[all_data.dtypes != \"object\"].index\n",
        "print ('Numeric Features: %d' % numeric_feats.shape[0])\n",
        "  \n",
        "categorical_feats = all_data.dtypes[all_data.dtypes == \"object\"].index\n",
        "print ('Categorical Features: %d' % categorical_feats.shape[0])"
      ],
      "execution_count": 22,
      "outputs": [
        {
          "output_type": "stream",
          "text": [
            "Numeric Features: 33\n",
            "Categorical Features: 45\n"
          ],
          "name": "stdout"
        }
      ]
    },
    {
      "metadata": {
        "id": "grthWZg02Rb4",
        "colab_type": "text"
      },
      "cell_type": "markdown",
      "source": [
        "### Discretize categorical attributes"
      ]
    },
    {
      "metadata": {
        "colab_type": "text",
        "id": "cGAhXM-gqs9B"
      },
      "cell_type": "markdown",
      "source": [
        "Convert all categorical data to one-hot (dummy encoding)"
      ]
    },
    {
      "metadata": {
        "colab_type": "code",
        "id": "w5RNWEMBqs9E",
        "colab": {
          "base_uri": "https://localhost:8080/",
          "height": 34
        },
        "outputId": "41c26f41-f220-4112-e93f-225e1c4dcf6f"
      },
      "cell_type": "code",
      "source": [
        "all_data = pd.get_dummies(all_data, columns = categorical_feats)\n",
        "print all_data.shape"
      ],
      "execution_count": 23,
      "outputs": [
        {
          "output_type": "stream",
          "text": [
            "(2919, 330)\n"
          ],
          "name": "stdout"
        }
      ]
    },
    {
      "metadata": {
        "id": "YOUrhmJczz_e",
        "colab_type": "code",
        "colab": {
          "base_uri": "https://localhost:8080/",
          "height": 350
        },
        "outputId": "81a4da08-e4c2-4e21-c026-ffe0c763c84e"
      },
      "cell_type": "code",
      "source": [
        "all_data.describe()"
      ],
      "execution_count": 24,
      "outputs": [
        {
          "output_type": "execute_result",
          "data": {
            "text/html": [
              "<div>\n",
              "<style scoped>\n",
              "    .dataframe tbody tr th:only-of-type {\n",
              "        vertical-align: middle;\n",
              "    }\n",
              "\n",
              "    .dataframe tbody tr th {\n",
              "        vertical-align: top;\n",
              "    }\n",
              "\n",
              "    .dataframe thead th {\n",
              "        text-align: right;\n",
              "    }\n",
              "</style>\n",
              "<table border=\"1\" class=\"dataframe\">\n",
              "  <thead>\n",
              "    <tr style=\"text-align: right;\">\n",
              "      <th></th>\n",
              "      <th>1stFlrSF</th>\n",
              "      <th>2ndFlrSF</th>\n",
              "      <th>3SsnPorch</th>\n",
              "      <th>BedroomAbvGr</th>\n",
              "      <th>BsmtFinSF1</th>\n",
              "      <th>BsmtFinSF2</th>\n",
              "      <th>BsmtFullBath</th>\n",
              "      <th>BsmtHalfBath</th>\n",
              "      <th>BsmtUnfSF</th>\n",
              "      <th>EnclosedPorch</th>\n",
              "      <th>...</th>\n",
              "      <th>SaleType_New</th>\n",
              "      <th>SaleType_Oth</th>\n",
              "      <th>SaleType_WD</th>\n",
              "      <th>Street_Grvl</th>\n",
              "      <th>Street_Pave</th>\n",
              "      <th>YrSold_2006</th>\n",
              "      <th>YrSold_2007</th>\n",
              "      <th>YrSold_2008</th>\n",
              "      <th>YrSold_2009</th>\n",
              "      <th>YrSold_2010</th>\n",
              "    </tr>\n",
              "  </thead>\n",
              "  <tbody>\n",
              "    <tr>\n",
              "      <th>count</th>\n",
              "      <td>2919.000000</td>\n",
              "      <td>2919.000000</td>\n",
              "      <td>2919.000000</td>\n",
              "      <td>2919.000000</td>\n",
              "      <td>2919.000000</td>\n",
              "      <td>2919.000000</td>\n",
              "      <td>2919.000000</td>\n",
              "      <td>2919.000000</td>\n",
              "      <td>2919.000000</td>\n",
              "      <td>2919.000000</td>\n",
              "      <td>...</td>\n",
              "      <td>2919.000000</td>\n",
              "      <td>2919.000000</td>\n",
              "      <td>2919.000000</td>\n",
              "      <td>2919.000000</td>\n",
              "      <td>2919.000000</td>\n",
              "      <td>2919.000000</td>\n",
              "      <td>2919.000000</td>\n",
              "      <td>2919.000000</td>\n",
              "      <td>2919.000000</td>\n",
              "      <td>2919.000000</td>\n",
              "    </tr>\n",
              "    <tr>\n",
              "      <th>mean</th>\n",
              "      <td>1159.581706</td>\n",
              "      <td>336.483727</td>\n",
              "      <td>2.602261</td>\n",
              "      <td>2.860226</td>\n",
              "      <td>441.272011</td>\n",
              "      <td>49.565262</td>\n",
              "      <td>0.429599</td>\n",
              "      <td>0.061322</td>\n",
              "      <td>560.579993</td>\n",
              "      <td>23.098321</td>\n",
              "      <td>...</td>\n",
              "      <td>0.081877</td>\n",
              "      <td>0.002398</td>\n",
              "      <td>0.865365</td>\n",
              "      <td>0.004111</td>\n",
              "      <td>0.995889</td>\n",
              "      <td>0.212059</td>\n",
              "      <td>0.237067</td>\n",
              "      <td>0.213087</td>\n",
              "      <td>0.221651</td>\n",
              "      <td>0.116136</td>\n",
              "    </tr>\n",
              "    <tr>\n",
              "      <th>std</th>\n",
              "      <td>392.362079</td>\n",
              "      <td>428.701456</td>\n",
              "      <td>25.188169</td>\n",
              "      <td>0.822693</td>\n",
              "      <td>455.606014</td>\n",
              "      <td>169.179104</td>\n",
              "      <td>0.524676</td>\n",
              "      <td>0.245608</td>\n",
              "      <td>439.590889</td>\n",
              "      <td>64.244246</td>\n",
              "      <td>...</td>\n",
              "      <td>0.274225</td>\n",
              "      <td>0.048920</td>\n",
              "      <td>0.341392</td>\n",
              "      <td>0.063996</td>\n",
              "      <td>0.063996</td>\n",
              "      <td>0.408836</td>\n",
              "      <td>0.425357</td>\n",
              "      <td>0.409559</td>\n",
              "      <td>0.415429</td>\n",
              "      <td>0.320442</td>\n",
              "    </tr>\n",
              "    <tr>\n",
              "      <th>min</th>\n",
              "      <td>334.000000</td>\n",
              "      <td>0.000000</td>\n",
              "      <td>0.000000</td>\n",
              "      <td>0.000000</td>\n",
              "      <td>0.000000</td>\n",
              "      <td>0.000000</td>\n",
              "      <td>0.000000</td>\n",
              "      <td>0.000000</td>\n",
              "      <td>0.000000</td>\n",
              "      <td>0.000000</td>\n",
              "      <td>...</td>\n",
              "      <td>0.000000</td>\n",
              "      <td>0.000000</td>\n",
              "      <td>0.000000</td>\n",
              "      <td>0.000000</td>\n",
              "      <td>0.000000</td>\n",
              "      <td>0.000000</td>\n",
              "      <td>0.000000</td>\n",
              "      <td>0.000000</td>\n",
              "      <td>0.000000</td>\n",
              "      <td>0.000000</td>\n",
              "    </tr>\n",
              "    <tr>\n",
              "      <th>25%</th>\n",
              "      <td>876.000000</td>\n",
              "      <td>0.000000</td>\n",
              "      <td>0.000000</td>\n",
              "      <td>2.000000</td>\n",
              "      <td>0.000000</td>\n",
              "      <td>0.000000</td>\n",
              "      <td>0.000000</td>\n",
              "      <td>0.000000</td>\n",
              "      <td>220.000000</td>\n",
              "      <td>0.000000</td>\n",
              "      <td>...</td>\n",
              "      <td>0.000000</td>\n",
              "      <td>0.000000</td>\n",
              "      <td>1.000000</td>\n",
              "      <td>0.000000</td>\n",
              "      <td>1.000000</td>\n",
              "      <td>0.000000</td>\n",
              "      <td>0.000000</td>\n",
              "      <td>0.000000</td>\n",
              "      <td>0.000000</td>\n",
              "      <td>0.000000</td>\n",
              "    </tr>\n",
              "    <tr>\n",
              "      <th>50%</th>\n",
              "      <td>1082.000000</td>\n",
              "      <td>0.000000</td>\n",
              "      <td>0.000000</td>\n",
              "      <td>3.000000</td>\n",
              "      <td>368.000000</td>\n",
              "      <td>0.000000</td>\n",
              "      <td>0.000000</td>\n",
              "      <td>0.000000</td>\n",
              "      <td>467.000000</td>\n",
              "      <td>0.000000</td>\n",
              "      <td>...</td>\n",
              "      <td>0.000000</td>\n",
              "      <td>0.000000</td>\n",
              "      <td>1.000000</td>\n",
              "      <td>0.000000</td>\n",
              "      <td>1.000000</td>\n",
              "      <td>0.000000</td>\n",
              "      <td>0.000000</td>\n",
              "      <td>0.000000</td>\n",
              "      <td>0.000000</td>\n",
              "      <td>0.000000</td>\n",
              "    </tr>\n",
              "    <tr>\n",
              "      <th>75%</th>\n",
              "      <td>1387.500000</td>\n",
              "      <td>704.000000</td>\n",
              "      <td>0.000000</td>\n",
              "      <td>3.000000</td>\n",
              "      <td>733.000000</td>\n",
              "      <td>0.000000</td>\n",
              "      <td>1.000000</td>\n",
              "      <td>0.000000</td>\n",
              "      <td>805.000000</td>\n",
              "      <td>0.000000</td>\n",
              "      <td>...</td>\n",
              "      <td>0.000000</td>\n",
              "      <td>0.000000</td>\n",
              "      <td>1.000000</td>\n",
              "      <td>0.000000</td>\n",
              "      <td>1.000000</td>\n",
              "      <td>0.000000</td>\n",
              "      <td>0.000000</td>\n",
              "      <td>0.000000</td>\n",
              "      <td>0.000000</td>\n",
              "      <td>0.000000</td>\n",
              "    </tr>\n",
              "    <tr>\n",
              "      <th>max</th>\n",
              "      <td>5095.000000</td>\n",
              "      <td>2065.000000</td>\n",
              "      <td>508.000000</td>\n",
              "      <td>8.000000</td>\n",
              "      <td>5644.000000</td>\n",
              "      <td>1526.000000</td>\n",
              "      <td>3.000000</td>\n",
              "      <td>2.000000</td>\n",
              "      <td>2336.000000</td>\n",
              "      <td>1012.000000</td>\n",
              "      <td>...</td>\n",
              "      <td>1.000000</td>\n",
              "      <td>1.000000</td>\n",
              "      <td>1.000000</td>\n",
              "      <td>1.000000</td>\n",
              "      <td>1.000000</td>\n",
              "      <td>1.000000</td>\n",
              "      <td>1.000000</td>\n",
              "      <td>1.000000</td>\n",
              "      <td>1.000000</td>\n",
              "      <td>1.000000</td>\n",
              "    </tr>\n",
              "  </tbody>\n",
              "</table>\n",
              "<p>8 rows × 330 columns</p>\n",
              "</div>"
            ],
            "text/plain": [
              "          1stFlrSF     2ndFlrSF    3SsnPorch  BedroomAbvGr   BsmtFinSF1  \\\n",
              "count  2919.000000  2919.000000  2919.000000   2919.000000  2919.000000   \n",
              "mean   1159.581706   336.483727     2.602261      2.860226   441.272011   \n",
              "std     392.362079   428.701456    25.188169      0.822693   455.606014   \n",
              "min     334.000000     0.000000     0.000000      0.000000     0.000000   \n",
              "25%     876.000000     0.000000     0.000000      2.000000     0.000000   \n",
              "50%    1082.000000     0.000000     0.000000      3.000000   368.000000   \n",
              "75%    1387.500000   704.000000     0.000000      3.000000   733.000000   \n",
              "max    5095.000000  2065.000000   508.000000      8.000000  5644.000000   \n",
              "\n",
              "        BsmtFinSF2  BsmtFullBath  BsmtHalfBath    BsmtUnfSF  EnclosedPorch  \\\n",
              "count  2919.000000   2919.000000   2919.000000  2919.000000    2919.000000   \n",
              "mean     49.565262      0.429599      0.061322   560.579993      23.098321   \n",
              "std     169.179104      0.524676      0.245608   439.590889      64.244246   \n",
              "min       0.000000      0.000000      0.000000     0.000000       0.000000   \n",
              "25%       0.000000      0.000000      0.000000   220.000000       0.000000   \n",
              "50%       0.000000      0.000000      0.000000   467.000000       0.000000   \n",
              "75%       0.000000      1.000000      0.000000   805.000000       0.000000   \n",
              "max    1526.000000      3.000000      2.000000  2336.000000    1012.000000   \n",
              "\n",
              "          ...       SaleType_New  SaleType_Oth  SaleType_WD  Street_Grvl  \\\n",
              "count     ...        2919.000000   2919.000000  2919.000000  2919.000000   \n",
              "mean      ...           0.081877      0.002398     0.865365     0.004111   \n",
              "std       ...           0.274225      0.048920     0.341392     0.063996   \n",
              "min       ...           0.000000      0.000000     0.000000     0.000000   \n",
              "25%       ...           0.000000      0.000000     1.000000     0.000000   \n",
              "50%       ...           0.000000      0.000000     1.000000     0.000000   \n",
              "75%       ...           0.000000      0.000000     1.000000     0.000000   \n",
              "max       ...           1.000000      1.000000     1.000000     1.000000   \n",
              "\n",
              "       Street_Pave  YrSold_2006  YrSold_2007  YrSold_2008  YrSold_2009  \\\n",
              "count  2919.000000  2919.000000  2919.000000  2919.000000  2919.000000   \n",
              "mean      0.995889     0.212059     0.237067     0.213087     0.221651   \n",
              "std       0.063996     0.408836     0.425357     0.409559     0.415429   \n",
              "min       0.000000     0.000000     0.000000     0.000000     0.000000   \n",
              "25%       1.000000     0.000000     0.000000     0.000000     0.000000   \n",
              "50%       1.000000     0.000000     0.000000     0.000000     0.000000   \n",
              "75%       1.000000     0.000000     0.000000     0.000000     0.000000   \n",
              "max       1.000000     1.000000     1.000000     1.000000     1.000000   \n",
              "\n",
              "       YrSold_2010  \n",
              "count  2919.000000  \n",
              "mean      0.116136  \n",
              "std       0.320442  \n",
              "min       0.000000  \n",
              "25%       0.000000  \n",
              "50%       0.000000  \n",
              "75%       0.000000  \n",
              "max       1.000000  \n",
              "\n",
              "[8 rows x 330 columns]"
            ]
          },
          "metadata": {
            "tags": []
          },
          "execution_count": 24
        }
      ]
    },
    {
      "metadata": {
        "id": "5lcLeP_uc4hP",
        "colab_type": "text"
      },
      "cell_type": "markdown",
      "source": [
        "### Skewed Data"
      ]
    },
    {
      "metadata": {
        "colab_type": "text",
        "id": "xCzPGvfse8Iv"
      },
      "cell_type": "markdown",
      "source": [
        "#### Target Variable"
      ]
    },
    {
      "metadata": {
        "colab_type": "text",
        "id": "j_UXlCmIe8I9"
      },
      "cell_type": "markdown",
      "source": [
        "- Unlike classification, **in regression we are predicting a continuous number**. Hence, the prediction could be any number along the real number line.\n",
        "- Therefore, it is always useful to check the distribution of the target variable, and indeed all numeric variables, when building a regression model. Machine Learning algorithms work well with features that are **normally distributed**, a distribution that is symmetric and has a characteristic bell shape. If features are not normally distributed, you can transform them using clever statistical methods.\n",
        "- First, let's check the target variable."
      ]
    },
    {
      "metadata": {
        "colab_type": "code",
        "id": "x1QVgxFte8JE",
        "colab": {
          "base_uri": "https://localhost:8080/",
          "height": 661
        },
        "outputId": "9d387796-a918-4ae9-ea48-d2df33fca1c0"
      },
      "cell_type": "code",
      "source": [
        "plt.subplots(figsize=(15, 10))\n",
        "g = sns.distplot(train['SalePrice'], fit=stats.norm, label = \"Skewness : %.2f\"%(train['SalePrice'].skew()));\n",
        "g = g.legend(loc=\"best\")"
      ],
      "execution_count": 25,
      "outputs": [
        {
          "output_type": "stream",
          "text": [
            "/usr/local/lib/python2.7/dist-packages/matplotlib/axes/_axes.py:6571: UserWarning: The 'normed' kwarg is deprecated, and has been replaced by the 'density' kwarg.\n",
            "  warnings.warn(\"The 'normed' kwarg is deprecated, and has been \"\n"
          ],
          "name": "stderr"
        },
        {
          "output_type": "display_data",
          "data": {
            "image/png": "[encoded data removed]",
            "text/plain": [
              "<Figure size 1080x720 with 1 Axes>"
            ]
          },
          "metadata": {
            "tags": []
          }
        }
      ]
    },
    {
      "metadata": {
        "colab_type": "text",
        "id": "W8usA1cve8Jc"
      },
      "cell_type": "markdown",
      "source": [
        "The distribution of the target variable is **positively skewed**, meaning that the mode is always less than the mean and median. \n",
        "\n",
        "- In order to transform this variable into a distribution that looks closer to the black line shown above, we can use the **numpy function log1p** which applies log(1+x) to all elements within the feature."
      ]
    },
    {
      "metadata": {
        "colab_type": "code",
        "id": "PV9MONIfe8Jf",
        "colab": {
          "base_uri": "https://localhost:8080/",
          "height": 606
        },
        "outputId": "bb95bda8-f0b5-4dfc-f09c-ff74bdd9ab25"
      },
      "cell_type": "code",
      "source": [
        "#We use the numpy fuction log1p which  applies log(1+x) to all elements of the column\n",
        "train[\"SalePrice\"] = np.log1p(train[\"SalePrice\"])\n",
        "y_train = train[\"SalePrice\"]\n",
        "\n",
        "#Check the new distribution \n",
        "plt.subplots(figsize=(15, 10))\n",
        "g = sns.distplot(train['SalePrice'], fit=stats.norm, label = \"Skewness : %.2f\"%(train['SalePrice'].skew()));\n",
        "g = g.legend(loc=\"best\")"
      ],
      "execution_count": 26,
      "outputs": [
        {
          "output_type": "display_data",
          "data": {
            "image/png": "[encoded data removed]",
            "text/plain": [
              "<Figure size 1080x720 with 1 Axes>"
            ]
          },
          "metadata": {
            "tags": []
          }
        }
      ]
    },
    {
      "metadata": {
        "id": "VdcZvfJ4fIkf",
        "colab_type": "text"
      },
      "cell_type": "markdown",
      "source": [
        "#### Numerical Features"
      ]
    },
    {
      "metadata": {
        "id": "wOqUVj6Wc--k",
        "colab_type": "code",
        "colab": {
          "base_uri": "https://localhost:8080/",
          "height": 607
        },
        "outputId": "ae8f301d-9fb8-4b3b-ea93-eea42abfbb77"
      },
      "cell_type": "code",
      "source": [
        "# Check the skew of all numerical features\n",
        "skewed_feats = all_data[numeric_feats].apply(lambda x: stats.skew(x.astype('float'))).sort_values(ascending=False)\n",
        "print skewed_feats"
      ],
      "execution_count": 27,
      "outputs": [
        {
          "output_type": "stream",
          "text": [
            "MiscVal          21.947195\n",
            "PoolArea         16.898328\n",
            "LotArea          12.822431\n",
            "LowQualFinSF     12.088761\n",
            "3SsnPorch        11.376065\n",
            "KitchenAbvGr      4.302254\n",
            "BsmtFinSF2        4.146143\n",
            "EnclosedPorch     4.003891\n",
            "ScreenPorch       3.946694\n",
            "BsmtHalfBath      3.931594\n",
            "MasVnrArea        2.613592\n",
            "OpenPorchSF       2.535114\n",
            "WoodDeckSF        1.842433\n",
            "LotFrontage       1.505704\n",
            "1stFlrSF          1.469604\n",
            "BsmtFinSF1        1.425230\n",
            "GrLivArea         1.269358\n",
            "TotalBsmtSF       1.156894\n",
            "BsmtUnfSF         0.919339\n",
            "2ndFlrSF          0.861675\n",
            "TotRmsAbvGrd      0.758367\n",
            "Fireplaces        0.733495\n",
            "HalfBath          0.694566\n",
            "BsmtFullBath      0.624832\n",
            "OverallCond       0.570312\n",
            "BedroomAbvGr      0.326324\n",
            "GarageArea        0.239257\n",
            "OverallQual       0.197110\n",
            "FullBath          0.167606\n",
            "GarageCars       -0.219581\n",
            "YearRemodAdd     -0.451020\n",
            "YearBuilt        -0.599806\n",
            "GarageYrBlt      -3.906205\n",
            "dtype: float64\n"
          ],
          "name": "stdout"
        }
      ]
    },
    {
      "metadata": {
        "id": "ZO6jblBrfVPw",
        "colab_type": "text"
      },
      "cell_type": "markdown",
      "source": [
        "Select only the features with skewness larger than 0.75."
      ]
    },
    {
      "metadata": {
        "id": "qKy3LMJ-m9vN",
        "colab_type": "code",
        "colab": {
          "base_uri": "https://localhost:8080/",
          "height": 416
        },
        "outputId": "9e7d59b1-11ec-411c-a8cb-b18609d4812c"
      },
      "cell_type": "code",
      "source": [
        "skewed_feats = skewed_feats[abs(skewed_feats) > 0.75]\n",
        "print skewed_feats"
      ],
      "execution_count": 28,
      "outputs": [
        {
          "output_type": "stream",
          "text": [
            "MiscVal          21.947195\n",
            "PoolArea         16.898328\n",
            "LotArea          12.822431\n",
            "LowQualFinSF     12.088761\n",
            "3SsnPorch        11.376065\n",
            "KitchenAbvGr      4.302254\n",
            "BsmtFinSF2        4.146143\n",
            "EnclosedPorch     4.003891\n",
            "ScreenPorch       3.946694\n",
            "BsmtHalfBath      3.931594\n",
            "MasVnrArea        2.613592\n",
            "OpenPorchSF       2.535114\n",
            "WoodDeckSF        1.842433\n",
            "LotFrontage       1.505704\n",
            "1stFlrSF          1.469604\n",
            "BsmtFinSF1        1.425230\n",
            "GrLivArea         1.269358\n",
            "TotalBsmtSF       1.156894\n",
            "BsmtUnfSF         0.919339\n",
            "2ndFlrSF          0.861675\n",
            "TotRmsAbvGrd      0.758367\n",
            "GarageYrBlt      -3.906205\n",
            "dtype: float64\n"
          ],
          "name": "stdout"
        }
      ]
    },
    {
      "metadata": {
        "id": "wjAxPOoqfZ5A",
        "colab_type": "text"
      },
      "cell_type": "markdown",
      "source": [
        "Let's plot some of the skewed features."
      ]
    },
    {
      "metadata": {
        "id": "wS_gbnbHhzMJ",
        "colab_type": "code",
        "colab": {
          "base_uri": "https://localhost:8080/",
          "height": 227
        },
        "outputId": "463caa0b-185e-41a5-b62f-d7556c8b5e5e"
      },
      "cell_type": "code",
      "source": [
        "plt.subplots(figsize =(15, 3))\n",
        "plt.subplot(1, 3, 1)\n",
        "g = sns.distplot(all_data[skewed_feats.index[0]], fit=stats.norm)\n",
        "plt.subplot(1, 3, 2)\n",
        "g = sns.distplot(all_data[skewed_feats.index[5]], fit=stats.norm)\n",
        "plt.subplot(1, 3, 3)\n",
        "g = sns.distplot(all_data[skewed_feats.index[10]], fit=stats.norm)"
      ],
      "execution_count": 29,
      "outputs": [
        {
          "output_type": "display_data",
          "data": {
            "image/png": "[encoded data removed]",
            "text/plain": [
              "<Figure size 1080x216 with 3 Axes>"
            ]
          },
          "metadata": {
            "tags": []
          }
        }
      ]
    },
    {
      "metadata": {
        "id": "AJghiYAikaBi",
        "colab_type": "text"
      },
      "cell_type": "markdown",
      "source": [
        "We can reduce skewness by using **logarithm transform**."
      ]
    },
    {
      "metadata": {
        "id": "JTGj0cfNiz26",
        "colab_type": "code",
        "colab": {}
      },
      "cell_type": "code",
      "source": [
        "for col in skewed_feats.index:\n",
        "  all_data[col] = np.log1p(all_data[col])"
      ],
      "execution_count": 0,
      "outputs": []
    },
    {
      "metadata": {
        "id": "IUYO1aMHxKKg",
        "colab_type": "code",
        "colab": {
          "base_uri": "https://localhost:8080/",
          "height": 225
        },
        "outputId": "46418f9f-af44-4fcf-a214-e4d56562f510"
      },
      "cell_type": "code",
      "source": [
        "plt.subplots(figsize =(15, 3))\n",
        "plt.subplot(1, 3, 1)\n",
        "g = sns.distplot(all_data[skewed_feats.index[0]], fit=stats.norm)\n",
        "plt.subplot(1, 3, 2)\n",
        "g = sns.distplot(all_data[skewed_feats.index[5]], fit=stats.norm)\n",
        "plt.subplot(1, 3, 3)\n",
        "g = sns.distplot(all_data[skewed_feats.index[10]], fit=stats.norm)"
      ],
      "execution_count": 31,
      "outputs": [
        {
          "output_type": "display_data",
          "data": {
            "image/png": "[encoded data removed]",
            "text/plain": [
              "<Figure size 1080x216 with 3 Axes>"
            ]
          },
          "metadata": {
            "tags": []
          }
        }
      ]
    },
    {
      "metadata": {
        "id": "9j8I0Ljn3HSj",
        "colab_type": "text"
      },
      "cell_type": "markdown",
      "source": [
        "## Modeling"
      ]
    },
    {
      "metadata": {
        "id": "AqE3fdZdfwHj",
        "colab_type": "text"
      },
      "cell_type": "markdown",
      "source": [
        "Let's import some packages that will be used to define and train our models"
      ]
    },
    {
      "metadata": {
        "id": "DRgQai-g7dl6",
        "colab_type": "code",
        "colab": {}
      },
      "cell_type": "code",
      "source": [
        "# importing packages\n",
        "from sklearn.linear_model import ElasticNet, Lasso, LinearRegression, Ridge\n",
        "from sklearn import model_selection\n",
        "from sklearn.model_selection import KFold\n",
        "from sklearn.model_selection import cross_val_score, train_test_split, cross_validate\n",
        "from sklearn.model_selection import GridSearchCV"
      ],
      "execution_count": 0,
      "outputs": []
    },
    {
      "metadata": {
        "id": "fHe9LnEN2_HM",
        "colab_type": "text"
      },
      "cell_type": "markdown",
      "source": [
        "### Preparation of data"
      ]
    },
    {
      "metadata": {
        "id": "p_VG3Lq86sJc",
        "colab_type": "code",
        "colab": {
          "base_uri": "https://localhost:8080/",
          "height": 52
        },
        "outputId": "fd8188e8-144d-4ff9-efbc-30901cd86d37"
      },
      "cell_type": "code",
      "source": [
        "# First, re-create the training and test datasets\n",
        "train = all_data[:num_train]\n",
        "test = all_data[num_train:]\n",
        "\n",
        "print(train.shape)\n",
        "print(test.shape)"
      ],
      "execution_count": 33,
      "outputs": [
        {
          "output_type": "stream",
          "text": [
            "(1460, 330)\n",
            "(1459, 330)\n"
          ],
          "name": "stdout"
        }
      ]
    },
    {
      "metadata": {
        "id": "EKqCAkKx689x",
        "colab_type": "text"
      },
      "cell_type": "markdown",
      "source": [
        "It is important to partition the train dataset in validation and train before testing with the real test data"
      ]
    },
    {
      "metadata": {
        "id": "ExdU9Cwo7Du3",
        "colab_type": "code",
        "colab": {
          "base_uri": "https://localhost:8080/",
          "height": 34
        },
        "outputId": "7990cf3d-6d3c-4777-a9ca-a31ce5fb6fcc"
      },
      "cell_type": "code",
      "source": [
        "# Next we want to sample our training data to test for performance of robustness ans accuracy, before applying to the test data\n",
        "X_train, X_test, Y_train, Y_test = model_selection.train_test_split(train, y_train, test_size=0.3, random_state=0)\n",
        "\n",
        "print('X_train: ', X_train.shape, 'X_test: ', X_test.shape, 'Y_train: ', Y_train.shape, 'Y_test: ', Y_test.shape)"
      ],
      "execution_count": 34,
      "outputs": [
        {
          "output_type": "stream",
          "text": [
            "('X_train: ', (1022, 330), 'X_test: ', (438, 330), 'Y_train: ', (1022,), 'Y_test: ', (438,))\n"
          ],
          "name": "stdout"
        }
      ]
    },
    {
      "metadata": {
        "id": "4gLuxRVG9lNi",
        "colab_type": "text"
      },
      "cell_type": "markdown",
      "source": [
        "### Validation Function and Coefficients"
      ]
    },
    {
      "metadata": {
        "id": "rFl5hHW2f_KW",
        "colab_type": "text"
      },
      "cell_type": "markdown",
      "source": [
        "We will use two methods:\n",
        "* **validate_model:** This method will validate our model according to the training data using cross validation.\n",
        "* **coef**: This method will print the values of the most important features after training our models."
      ]
    },
    {
      "metadata": {
        "id": "LOLmwNRn-YwC",
        "colab_type": "code",
        "colab": {}
      },
      "cell_type": "code",
      "source": [
        "def validate_model(X_train, Y_train, model, num_folds=5, random_state=0, verbose=True):\n",
        "  \n",
        "  # fit training data\n",
        "  model.fit(X_train, Y_train)\n",
        "  # define number of folds\n",
        "  kf = KFold(num_folds, shuffle=True, random_state=random_state).get_n_splits(X_train.values)\n",
        "  # use of cross-validation in our dataset\n",
        "  cv_results = cross_validate(model, X_train, Y_train, cv = kf, \n",
        "                              scoring= 'neg_mean_squared_error', return_train_score=True)\n",
        "  \n",
        "  # calculate Rooted Mean Square Error (RMSE)\n",
        "  training_results = np.sqrt((-cv_results['train_score']).mean())\n",
        "  val_results = np.sqrt((-cv_results['test_score']).mean())\n",
        "  \n",
        "  if verbose == True:\n",
        "    print('Training RMSE: %.4lf,  Validation RMSE: %.4lf' % (training_results, val_results))\n",
        "  return training_results, val_results\n",
        "\n",
        "\n",
        "def coef(model, X, top=5):\n",
        "  # iterate over the model coefficients and print the top most important features\n",
        "  for l, r in sorted(zip(X.columns, model.coef_), key=lambda x: abs(x[1]), reverse=True)[:top]:\n",
        "    print(\"(%s, %.5f)\" % (l, r))"
      ],
      "execution_count": 0,
      "outputs": []
    },
    {
      "metadata": {
        "id": "2g0X6L9sAFtg",
        "colab_type": "text"
      },
      "cell_type": "markdown",
      "source": [
        "### Linear Regression"
      ]
    },
    {
      "metadata": {
        "id": "MmkTWhQkEVkd",
        "colab_type": "text"
      },
      "cell_type": "markdown",
      "source": [
        "https://scikit-learn.org/stable/modules/generated/sklearn.linear_model.LinearRegression.html"
      ]
    },
    {
      "metadata": {
        "id": "kf_AcBk7AIn6",
        "colab_type": "code",
        "colab": {
          "base_uri": "https://localhost:8080/",
          "height": 34
        },
        "outputId": "d09a17a9-12a4-4842-c79c-00a4fd440b69"
      },
      "cell_type": "code",
      "source": [
        "model = LinearRegression()\n",
        "_ = validate_model(X_train, Y_train, model)"
      ],
      "execution_count": 36,
      "outputs": [
        {
          "output_type": "stream",
          "text": [
            "Training RMSE: 0.0784,  Validation RMSE: 0.1677\n"
          ],
          "name": "stdout"
        }
      ]
    },
    {
      "metadata": {
        "id": "CtpnTXGEAJAM",
        "colab_type": "text"
      },
      "cell_type": "markdown",
      "source": [
        "### Ridge Regression"
      ]
    },
    {
      "metadata": {
        "id": "NPSTM9XlEUZA",
        "colab_type": "text"
      },
      "cell_type": "markdown",
      "source": [
        "https://scikit-learn.org/stable/modules/generated/sklearn.linear_model.Ridge.html"
      ]
    },
    {
      "metadata": {
        "id": "7l2glPDRALa8",
        "colab_type": "code",
        "colab": {
          "base_uri": "https://localhost:8080/",
          "height": 34
        },
        "outputId": "ad6e3183-5746-4886-e2b8-c6a126d56578"
      },
      "cell_type": "code",
      "source": [
        "model = Ridge(alpha=1)\n",
        "_ = validate_model(X_train, Y_train, model)"
      ],
      "execution_count": 37,
      "outputs": [
        {
          "output_type": "stream",
          "text": [
            "Training RMSE: 0.0838,  Validation RMSE: 0.1279\n"
          ],
          "name": "stdout"
        }
      ]
    },
    {
      "metadata": {
        "id": "kI8CNEvcFKpF",
        "colab_type": "text"
      },
      "cell_type": "markdown",
      "source": [
        "Try different parameters"
      ]
    },
    {
      "metadata": {
        "id": "Tks4NuQdFOid",
        "colab_type": "code",
        "colab": {
          "base_uri": "https://localhost:8080/",
          "height": 243
        },
        "outputId": "59bdded9-1689-4ea7-f6d1-5b531ca70186"
      },
      "cell_type": "code",
      "source": [
        "alpha = [0.001, 0.01, 0.1, 1.0, 10.0, 100.0]\n",
        "best_parameter = alpha[0]\n",
        "best_rmse = 100\n",
        "for i in alpha:\n",
        "  print(\"Regularization parameter: %.2lf\" % i)\n",
        "  model = Ridge(alpha=i)\n",
        "  training_result, val_result = validate_model(X_train, Y_train, model)\n",
        "  if best_rmse > val_result:\n",
        "    best_rmse = val_result\n",
        "    best_parameter = i\n",
        "print(\"Best parameter: %lf\" % best_parameter)"
      ],
      "execution_count": 38,
      "outputs": [
        {
          "output_type": "stream",
          "text": [
            "Regularization parameter: 0.00\n",
            "Training RMSE: 0.0785,  Validation RMSE: 0.1477\n",
            "Regularization parameter: 0.01\n",
            "Training RMSE: 0.0786,  Validation RMSE: 0.1403\n",
            "Regularization parameter: 0.10\n",
            "Training RMSE: 0.0789,  Validation RMSE: 0.1353\n",
            "Regularization parameter: 1.00\n",
            "Training RMSE: 0.0838,  Validation RMSE: 0.1279\n",
            "Regularization parameter: 10.00\n",
            "Training RMSE: 0.0978,  Validation RMSE: 0.1257\n",
            "Regularization parameter: 100.00\n",
            "Training RMSE: 0.1228,  Validation RMSE: 0.1375\n",
            "Best parameter: 10.000000\n"
          ],
          "name": "stdout"
        }
      ]
    },
    {
      "metadata": {
        "id": "HMpb6F2kSDST",
        "colab_type": "code",
        "colab": {
          "base_uri": "https://localhost:8080/",
          "height": 34
        },
        "outputId": "96713261-7087-4ab6-c305-6b5c93f44c25"
      },
      "cell_type": "code",
      "source": [
        "# model with best parameters\n",
        "model = Ridge(alpha=10)\n",
        "_ = validate_model(X_train, Y_train, model)"
      ],
      "execution_count": 39,
      "outputs": [
        {
          "output_type": "stream",
          "text": [
            "Training RMSE: 0.0978,  Validation RMSE: 0.1257\n"
          ],
          "name": "stdout"
        }
      ]
    },
    {
      "metadata": {
        "id": "tMVJDJTkROrc",
        "colab_type": "text"
      },
      "cell_type": "markdown",
      "source": [
        "Let's review the best paremeters after training."
      ]
    },
    {
      "metadata": {
        "id": "HnByLw7cROJa",
        "colab_type": "code",
        "colab": {
          "base_uri": "https://localhost:8080/",
          "height": 364
        },
        "outputId": "d4cd9ae3-a84f-45bc-eab4-6e583f961aa0"
      },
      "cell_type": "code",
      "source": [
        "coef(model, X_train, 20)"
      ],
      "execution_count": 40,
      "outputs": [
        {
          "output_type": "stream",
          "text": [
            "(GrLivArea, 0.17165)\n",
            "(1stFlrSF, 0.14232)\n",
            "(MSZoning_C (all), -0.12815)\n",
            "(Condition2_PosN, -0.09011)\n",
            "(Neighborhood_Crawfor, 0.08668)\n",
            "(Neighborhood_IDOTRR, -0.07724)\n",
            "(Neighborhood_StoneBr, 0.06622)\n",
            "(LotArea, 0.06616)\n",
            "(Neighborhood_NoRidge, 0.06332)\n",
            "(Neighborhood_Edwards, -0.06237)\n",
            "(Condition2_Norm, 0.06056)\n",
            "(Functional_Typ, 0.05644)\n",
            "(OverallQual, 0.05486)\n",
            "(Condition1_Norm, 0.05283)\n",
            "(MSZoning_FV, 0.05176)\n",
            "(Exterior1st_BrkFace, 0.05070)\n",
            "(Neighborhood_Mitchel, -0.04918)\n",
            "(SaleCondition_Abnorml, -0.04883)\n",
            "(SaleType_ConLD, 0.04782)\n",
            "(KitchenQual_Ex, 0.04575)\n"
          ],
          "name": "stdout"
        }
      ]
    },
    {
      "metadata": {
        "id": "7qbCiVOuAL1d",
        "colab_type": "text"
      },
      "cell_type": "markdown",
      "source": [
        "### Lasso Regression"
      ]
    },
    {
      "metadata": {
        "id": "J0gJwwAKPDYE",
        "colab_type": "text"
      },
      "cell_type": "markdown",
      "source": [
        "https://scikit-learn.org/stable/modules/generated/sklearn.linear_model.Lasso.html"
      ]
    },
    {
      "metadata": {
        "id": "Ikmj43z7APM6",
        "colab_type": "code",
        "colab": {
          "base_uri": "https://localhost:8080/",
          "height": 34
        },
        "outputId": "43bad47c-e340-42ce-aaab-03c6cf16e897"
      },
      "cell_type": "code",
      "source": [
        "model = Lasso(alpha=0.01)\n",
        "_ = validate_model(X_train, Y_train, model)"
      ],
      "execution_count": 41,
      "outputs": [
        {
          "output_type": "stream",
          "text": [
            "Training RMSE: 0.1437,  Validation RMSE: 0.1479\n"
          ],
          "name": "stdout"
        }
      ]
    },
    {
      "metadata": {
        "id": "gVpsaUkrNtgy",
        "colab_type": "code",
        "colab": {
          "base_uri": "https://localhost:8080/",
          "height": 243
        },
        "outputId": "1746ceb0-394a-4ba4-a2e9-262cbe0fd1ed"
      },
      "cell_type": "code",
      "source": [
        "alpha = [0.001, 0.01, 0.1, 1.0, 10.0, 100.0]\n",
        "best_parameter = alpha[0]\n",
        "best_rmse = 100\n",
        "for i in alpha:\n",
        "  print(\"Regularization parameter: %.2lf\" % i)\n",
        "  model = Lasso(alpha=i)\n",
        "  training_result, val_result = validate_model(X_train, Y_train, model)\n",
        "  if best_rmse > val_result:\n",
        "    best_rmse = val_result\n",
        "    best_parameter = i\n",
        "\n",
        "print(\"Best parameter: %lf\" % best_parameter)"
      ],
      "execution_count": 42,
      "outputs": [
        {
          "output_type": "stream",
          "text": [
            "Regularization parameter: 0.00\n",
            "Training RMSE: 0.1052,  Validation RMSE: 0.1222\n",
            "Regularization parameter: 0.01\n",
            "Training RMSE: 0.1437,  Validation RMSE: 0.1479\n",
            "Regularization parameter: 0.10\n",
            "Training RMSE: 0.2227,  Validation RMSE: 0.2264\n",
            "Regularization parameter: 1.00\n",
            "Training RMSE: 0.2670,  Validation RMSE: 0.2685\n",
            "Regularization parameter: 10.00\n",
            "Training RMSE: 0.3035,  Validation RMSE: 0.3043\n",
            "Regularization parameter: 100.00\n",
            "Training RMSE: 0.4018,  Validation RMSE: 0.4027\n",
            "Best parameter: 0.001000\n"
          ],
          "name": "stdout"
        }
      ]
    },
    {
      "metadata": {
        "id": "9HSJZ1gtPSCr",
        "colab_type": "code",
        "colab": {
          "base_uri": "https://localhost:8080/",
          "height": 34
        },
        "outputId": "049f2ab6-db48-4e84-c3de-27c59860423f"
      },
      "cell_type": "code",
      "source": [
        "model = Lasso(alpha=0.001)\n",
        "_ = validate_model(X_train, Y_train, model)"
      ],
      "execution_count": 43,
      "outputs": [
        {
          "output_type": "stream",
          "text": [
            "Training RMSE: 0.1052,  Validation RMSE: 0.1222\n"
          ],
          "name": "stdout"
        }
      ]
    },
    {
      "metadata": {
        "id": "RHc9jgQOSTTf",
        "colab_type": "text"
      },
      "cell_type": "markdown",
      "source": [
        "Let's review the best paremeters after training."
      ]
    },
    {
      "metadata": {
        "id": "pnMC9L4BQc39",
        "colab_type": "code",
        "colab": {
          "base_uri": "https://localhost:8080/",
          "height": 364
        },
        "outputId": "c0ad4943-b388-4fbe-c968-bc68ba5a0281"
      },
      "cell_type": "code",
      "source": [
        "coef(model, X_train, 20)"
      ],
      "execution_count": 44,
      "outputs": [
        {
          "output_type": "stream",
          "text": [
            "(GrLivArea, 0.34318)\n",
            "(MSZoning_C (all), -0.21348)\n",
            "(Condition2_PosN, -0.13452)\n",
            "(1stFlrSF, 0.09740)\n",
            "(Neighborhood_Crawfor, 0.09596)\n",
            "(LotArea, 0.07187)\n",
            "(Functional_Typ, 0.06888)\n",
            "(OverallQual, 0.06204)\n",
            "(SaleCondition_Abnorml, -0.05641)\n",
            "(KitchenQual_Ex, 0.05632)\n",
            "(Neighborhood_NoRidge, 0.05357)\n",
            "(Condition1_Norm, 0.05357)\n",
            "(BsmtQual_Ex, 0.05048)\n",
            "(OverallCond, 0.04143)\n",
            "(Neighborhood_BrkSide, 0.04010)\n",
            "(Exterior1st_BrkFace, 0.03920)\n",
            "(Neighborhood_StoneBr, 0.03678)\n",
            "(Neighborhood_IDOTRR, -0.03676)\n",
            "(CentralAir_N, -0.03633)\n",
            "(Neighborhood_NridgHt, 0.03508)\n"
          ],
          "name": "stdout"
        }
      ]
    },
    {
      "metadata": {
        "id": "B2Nt1jqbT_mQ",
        "colab_type": "text"
      },
      "cell_type": "markdown",
      "source": [
        "#### Feature Selection"
      ]
    },
    {
      "metadata": {
        "id": "TAtUDc6jSgoa",
        "colab_type": "text"
      },
      "cell_type": "markdown",
      "source": [
        "Use best features obtained with Lasso, to do that we use only the features with parameters different than 0"
      ]
    },
    {
      "metadata": {
        "id": "4jpZ3lZATqA5",
        "colab_type": "code",
        "colab": {}
      },
      "cell_type": "code",
      "source": [
        "def feat_selection(model, X, top=5):\n",
        "  feat = []\n",
        "  for l, r in sorted(zip(X.columns, model.coef_), key=lambda x: abs(x[1]), reverse=True)[:top]:\n",
        "    if r > 0:\n",
        "      feat.append(l)\n",
        "  return feat"
      ],
      "execution_count": 0,
      "outputs": []
    },
    {
      "metadata": {
        "id": "u1uZNEsBQlbA",
        "colab_type": "code",
        "colab": {}
      },
      "cell_type": "code",
      "source": [
        "lasso_feat = feat_selection(model, X_train, 20)\n",
        "\n",
        "X_train_small = X_train[lasso_feat]\n",
        "X_test_small = X_test[lasso_feat]"
      ],
      "execution_count": 0,
      "outputs": []
    },
    {
      "metadata": {
        "id": "5cFoF0DWTR-0",
        "colab_type": "code",
        "colab": {
          "base_uri": "https://localhost:8080/",
          "height": 34
        },
        "outputId": "4f77c0c8-fe6d-4ed3-eaa1-7f46b3d76504"
      },
      "cell_type": "code",
      "source": [
        "model = Lasso(alpha=0.001)\n",
        "_ = validate_model(X_train_small, Y_train, model)"
      ],
      "execution_count": 47,
      "outputs": [
        {
          "output_type": "stream",
          "text": [
            "Training RMSE: 0.1668,  Validation RMSE: 0.1701\n"
          ],
          "name": "stdout"
        }
      ]
    },
    {
      "metadata": {
        "id": "36TdaFqyW4gY",
        "colab_type": "text"
      },
      "cell_type": "markdown",
      "source": [
        "### Grid Search"
      ]
    },
    {
      "metadata": {
        "id": "ltTSHDHQX2pG",
        "colab_type": "text"
      },
      "cell_type": "markdown",
      "source": [
        "Set different values for all possible parameters"
      ]
    },
    {
      "metadata": {
        "id": "-0uWi8vAW5rP",
        "colab_type": "code",
        "colab": {}
      },
      "cell_type": "code",
      "source": [
        "lasso_param_grid = {'alpha': [0.001, 0.01, 0.1, 1.0, 10.0, 100.0], \n",
        "                    'copy_X': [True], 'fit_intercept': [True], \n",
        "                    'normalize': [False, True], 'precompute': [False], \n",
        "                    'max_iter': [300, 400, 500, 800], 'tol': [0.01], \n",
        "                    'selection': ['random'], 'random_state': [None]}"
      ],
      "execution_count": 0,
      "outputs": []
    },
    {
      "metadata": {
        "id": "bq_YHO_qX7HV",
        "colab_type": "text"
      },
      "cell_type": "markdown",
      "source": [
        "Specify the model and grid search"
      ]
    },
    {
      "metadata": {
        "id": "E_k53ovSXTyQ",
        "colab_type": "code",
        "colab": {}
      },
      "cell_type": "code",
      "source": [
        "model = Lasso(alpha=0.001)\n",
        "grid_search = GridSearchCV(model, param_grid = lasso_param_grid, cv = 5, scoring = 'neg_mean_squared_error', n_jobs=-1)"
      ],
      "execution_count": 0,
      "outputs": []
    },
    {
      "metadata": {
        "id": "cZy5o80yX-fv",
        "colab_type": "text"
      },
      "cell_type": "markdown",
      "source": [
        "Perform Grid Search using training data"
      ]
    },
    {
      "metadata": {
        "id": "J3f3haqWXiL0",
        "colab_type": "code",
        "colab": {
          "base_uri": "https://localhost:8080/",
          "height": 176
        },
        "outputId": "e69b19b2-cbe0-427a-f8fe-ad2597f9f1f2"
      },
      "cell_type": "code",
      "source": [
        "grid_search.fit(X_train, Y_train)\n"
      ],
      "execution_count": 50,
      "outputs": [
        {
          "output_type": "execute_result",
          "data": {
            "text/plain": [
              "GridSearchCV(cv=5, error_score='raise-deprecating',\n",
              "       estimator=Lasso(alpha=0.001, copy_X=True, fit_intercept=True, max_iter=1000,\n",
              "   normalize=False, positive=False, precompute=False, random_state=None,\n",
              "   selection='cyclic', tol=0.0001, warm_start=False),\n",
              "       fit_params=None, iid='warn', n_jobs=-1,\n",
              "       param_grid={'normalize': [False, True], 'precompute': [False], 'selection': ['random'], 'tol': [0.01], 'fit_intercept': [True], 'copy_X': [True], 'alpha': [0.001, 0.01, 0.1, 1.0, 10.0, 100.0], 'max_iter': [300, 400, 500, 800], 'random_state': [None]},\n",
              "       pre_dispatch='2*n_jobs', refit=True, return_train_score='warn',\n",
              "       scoring='neg_mean_squared_error', verbose=0)"
            ]
          },
          "metadata": {
            "tags": []
          },
          "execution_count": 50
        }
      ]
    },
    {
      "metadata": {
        "id": "6o56P2J_YBVQ",
        "colab_type": "text"
      },
      "cell_type": "markdown",
      "source": [
        "Get best parameters obtained with grid search"
      ]
    },
    {
      "metadata": {
        "id": "G4A3LoNJXq3m",
        "colab_type": "code",
        "colab": {
          "base_uri": "https://localhost:8080/",
          "height": 69
        },
        "outputId": "3bfdd0f4-3b1f-4af1-a3e6-2aa4f0ceb35b"
      },
      "cell_type": "code",
      "source": [
        "best_params = grid_search.best_estimator_\n",
        "print best_params"
      ],
      "execution_count": 51,
      "outputs": [
        {
          "output_type": "stream",
          "text": [
            "Lasso(alpha=0.001, copy_X=True, fit_intercept=True, max_iter=400,\n",
            "   normalize=False, positive=False, precompute=False, random_state=None,\n",
            "   selection='random', tol=0.01, warm_start=False)\n"
          ],
          "name": "stdout"
        }
      ]
    }
  ]
}